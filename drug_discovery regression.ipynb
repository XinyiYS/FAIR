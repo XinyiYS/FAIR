{
 "cells": [
  {
   "cell_type": "code",
   "execution_count": 1,
   "id": "82ac5ca8",
   "metadata": {},
   "outputs": [],
   "source": [
    "import os\n",
    "from os.path import join as oj\n",
    "import pandas as pd\n",
    "import numpy as np\n",
    "from scipy.stats import sem\n",
    "from collections import defaultdict\n",
    "\n",
    "from utils.utils import cwd, set_up_plotting\n",
    "\n",
    "plt = set_up_plotting()"
   ]
  },
  {
   "cell_type": "code",
   "execution_count": 2,
   "id": "5e952ba2",
   "metadata": {},
   "outputs": [
    {
     "name": "stdout",
     "output_type": "stream",
     "text": [
      "Beginning Processing...\n",
      "Default binary threshold for the binding affinity scores are 30, you can adjust it by using the \"threshold\" parameter\n",
      "Done!\n",
      "Setting the target site to be the amino acid with sequence \"PFWKILNPLLERGTYYYFMGQQPGKVLGDQRRPSLPALHFIKGAGKKESSRHGGPHCNVFVEHEALQRPVASDFEPQGLSEAARWNSKENLLAGPSENDPNLFVALYDFVASGDNTLSITKGEKLRVLGYNHNGEWCEAQTKNGQGWVPSNYITPVNSLEKHSWYHGPVSRNAAEYLLSSGINGSFLVRESESSPGQRSISLRYEGRVYHYRINTASDGKLYVSSESRFNTLAELVHHHSTVADGLITTLHYPAPKRNKPTVYGVSPNYDKWEMERTDITMKHKLGGGQYGEVYEGVWKKYSLTVAVKTLKEDTMEVEEFLKEAAVMKEIKHPNLVQLLGVCTREPPFYIITEFMTYGNLLDYLRECNRQEVNAVVLLYMATQISSAMEYLEKKNFIHRDLAARNCLVGENHLVKVADFGLSRLMTGDTYTAHAGAKFPIKWTAPESLAYNKFSIKSDVWAFGVLLWEIATYGMSPYPGIDLSQVYELLEKDYRMERPEGCPEKVYELMRACWQWNPSDRPSFAEIHQAFETMFQESSISDEVEKELGKQGVRGAVSTLLQAPELPTKTRTSRRAAEHRDTTDVPEMPHSKGQGESDPLDHEPAVSPLLPRKERGPPEGGLNEDERLLPKDKKTNLFSALIKKKKKTAPTPPKRSSSFREMDGQPERRGAGEEEGRDISNGALAFTPLDTADPAKSPKPSNGAGVPNGALRESGGSGFRSPHLWKKSSTLTSSRLATGEEEGGGSSSKRFLRSCSASCVPHGAKDTEWRSVTLPRDLQSTGRQFDSSTFGGHKSEKPALPRKRAGENRSDQVTRGTVTPPPRLVKKNEEAADEVFKDIMESSPGSSPPNLTPKPLRRQVTVAPASGLPHKEEAGKGSALGTPAAAEPVTPTSKAGSGAPGGTSKGPAEESRVRRHKHSSESPGRDKGKLSRLKPAPPPPPAASAGKAGGKPSQSPSQEAAGEAVLGAKTKATSLVDAVNSDAAKPSQPGEGLKKPVLPATPKPQSAKPSGTPISPAPVPSTLPSASSALAGDQPSSTAFIPLISTRVSLRKTRQPPERIASGAITKGVVLDSTEALCLAISRNSEQMASHSAVLEAGKNLYTFCVSYVDSIQQMRNKFAFREAINKLENNLRELQICPATAGSGPAATQDFSKLLSSVKEISDIVQR\"\n"
     ]
    }
   ],
   "source": [
    "from drug_utils import load_process_DAVIS, X_drug, X_target, y, kernel"
   ]
  },
  {
   "cell_type": "code",
   "execution_count": 3,
   "id": "cdf9f6d7",
   "metadata": {},
   "outputs": [],
   "source": [
    "setting = 'drug'\n",
    "results_dir = 'results'\n",
    "\n",
    "with cwd(oj(results_dir, setting)):\n",
    "    result_datas = []\n",
    "    for file in os.listdir():\n",
    "        if file.endswith('.npz'):\n",
    "            result_datas.append(np.load(file, allow_pickle=True))"
   ]
  },
  {
   "cell_type": "markdown",
   "id": "bd7e2351",
   "metadata": {},
   "source": [
    "### GP regression"
   ]
  },
  {
   "cell_type": "code",
   "execution_count": 4,
   "id": "7fea6bbe",
   "metadata": {},
   "outputs": [],
   "source": [
    "def posterior_predictive(X_train, y_train, X_test, sigma_y=1e-8):\n",
    "    K = kernel(X_train, X_train) + np.square(sigma_y) * np.eye(len(X_train))\n",
    "    K_s = kernel(X_train, X_test)\n",
    "#     K_ss = kernel(X_train, X_train)\n",
    "    K_inv = np.linalg.inv(K + sigma_y * np.eye(len(K)))\n",
    "\n",
    "    mu_s = K_s.T @ K_inv @ y_train\n",
    "    return mu_s\n",
    "\n",
    "def get_mse(X_drug, y, X_train, X_test):\n",
    "    X_train = np.unique(X_train)\n",
    "    X_test = np.unique(X_test)\n",
    "    \n",
    "    y_train = [y_i for x_drug_i, y_i in zip(X_drug, y) if x_drug_i in X_train ]\n",
    "    y_train = np.asarray(y_train)\n",
    "    \n",
    "    y_test = [ y_i for x_drug_i, y_i in zip(X_drug, y) if x_drug_i in X_test]\n",
    "    y_test = np.asarray(y_test)\n",
    "\n",
    "    predictive_mean = posterior_predictive(X_train, y_train, X_test, 1e-1)\n",
    "    \n",
    "    return np.mean((y_test - predictive_mean)**2)"
   ]
  },
  {
   "cell_type": "code",
   "execution_count": 5,
   "id": "c1b196bc",
   "metadata": {},
   "outputs": [],
   "source": [
    "obs = result_datas[0]['obs'].item()\n",
    "Ts = result_datas[0]['Ts']"
   ]
  },
  {
   "cell_type": "code",
   "execution_count": 6,
   "id": "b97573af",
   "metadata": {},
   "outputs": [],
   "source": [
    "\n",
    "mse_results = defaultdict(list)\n",
    "n = 3\n",
    "n_trials = 5\n",
    "for trial_i in range(n_trials):\n",
    "    obs = result_datas[trial_i]['obs'].item()\n",
    "    Ts = result_datas[trial_i]['Ts']\n",
    "    for collab_type, collab_obs in obs.items():\n",
    "        mse = 0\n",
    "        mses = []\n",
    "        for i in range(n):\n",
    "            if 'indiv' in collab_type:    \n",
    "                mse_i = get_mse(X_drug, y, collab_obs[i], Ts[i])\n",
    "            else:\n",
    "                mse_i = get_mse(X_drug, y, collab_obs, Ts[i]) \n",
    "\n",
    "            mses.append(mse_i)\n",
    "            mse += mse_i / n\n",
    "        \n",
    "        mse_results[collab_type+'-avg-mses'].append(mse)        \n",
    "        mse_results[collab_type+'-mses'].append(mses)"
   ]
  },
  {
   "cell_type": "code",
   "execution_count": 7,
   "id": "8a682676",
   "metadata": {},
   "outputs": [],
   "source": [
    "import pandas as pd"
   ]
  },
  {
   "cell_type": "code",
   "execution_count": 8,
   "id": "602ff423",
   "metadata": {},
   "outputs": [],
   "source": [
    "data_df = defaultdict(list)\n",
    "for collab_type, mse_list in mse_results.items():\n",
    "    baseline = collab_type.replace('-avg-mses', '').replace('-mses', '').replace('_obs','').replace('indiv_greedy', 'ind')\n",
    "    if baseline not in data_df['Baselines']:\n",
    "        data_df['Baselines'].append(baseline)\n",
    "    if '-avg-mses' in collab_type:\n",
    "        avg = np.mean(mse_list)\n",
    "        se = sem(mse_list)\n",
    "        data_df['Avg MSE'].append(avg)\n",
    "        data_df['Stderr'].append(se)\n",
    "    else:\n",
    "        stds = np.std(mse_list, axis=1)\n",
    "        \n",
    "        mean_std_mse = np.mean(stds)\n",
    "        se_std_mse = sem(stds)\n",
    "        data_df['Std MSE'].append(mean_std_mse)\n",
    "        data_df['Stderr Std'].append(se_std_mse)"
   ]
  },
  {
   "cell_type": "code",
   "execution_count": 9,
   "id": "a3a6f0f2",
   "metadata": {},
   "outputs": [],
   "source": [
    "drug_regression_df = pd.DataFrame(data=data_df)"
   ]
  },
  {
   "cell_type": "code",
   "execution_count": 10,
   "id": "1d4e27ef",
   "metadata": {},
   "outputs": [],
   "source": [
    "with cwd(oj(results_dir, setting)):\n",
    "    drug_regression_df.to_latex('regression_results.tex',index=False)\n",
    "    drug_regression_df.to_csv('regression_results.csv',index=False)\n"
   ]
  },
  {
   "cell_type": "code",
   "execution_count": null,
   "id": "a00b512c",
   "metadata": {},
   "outputs": [],
   "source": []
  }
 ],
 "metadata": {
  "kernelspec": {
   "display_name": "Python 3",
   "language": "python",
   "name": "python3"
  },
  "language_info": {
   "codemirror_mode": {
    "name": "ipython",
    "version": 3
   },
   "file_extension": ".py",
   "mimetype": "text/x-python",
   "name": "python",
   "nbconvert_exporter": "python",
   "pygments_lexer": "ipython3",
   "version": "3.6.13"
  }
 },
 "nbformat": 4,
 "nbformat_minor": 5
}
