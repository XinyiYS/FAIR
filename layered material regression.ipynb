{
 "cells": [
  {
   "cell_type": "code",
   "execution_count": 1,
   "id": "c4e5330d",
   "metadata": {},
   "outputs": [],
   "source": [
    "import numpy as np\n",
    "from matplotlib import pyplot as plt\n",
    "from sklearn.gaussian_process import GaussianProcessRegressor\n",
    "from sklearn.gaussian_process.kernels import RBF, ConstantKernel as C ,WhiteKernel as Wht,Matern as matk\n",
    "from sklearn.gaussian_process.kernels import RationalQuadratic as expker\n",
    "from sklearn.metrics import mean_squared_error as MSError"
   ]
  },
  {
   "cell_type": "code",
   "execution_count": 2,
   "id": "fad7e265",
   "metadata": {},
   "outputs": [],
   "source": [
    "import os\n",
    "from os.path import join as oj\n",
    "import pandas as pd\n",
    "import numpy as np\n",
    "from scipy.stats import sem\n",
    "from collections import defaultdict\n",
    "\n",
    "from utils.utils import cwd, set_up_plotting\n",
    "\n",
    "plt = set_up_plotting()"
   ]
  },
  {
   "cell_type": "code",
   "execution_count": 3,
   "id": "cbe3f120",
   "metadata": {},
   "outputs": [],
   "source": [
    "from material_utils import process_data, kernel"
   ]
  },
  {
   "cell_type": "code",
   "execution_count": 4,
   "id": "e1902ba1",
   "metadata": {},
   "outputs": [
    {
     "name": "stdout",
     "output_type": "stream",
     "text": [
      "Xmax and  Xmin:  [  2.58 999.6 ] [  2.1 684.3]\n",
      "Xmean  and Xstd:  [  2.35 852.84] [  0.19575495 113.88574274]\n",
      "Original Training and Y : (177, 12) (177,)\n",
      "Transpose Training and Y :  (12, 177) (177,)\n",
      "Original Training and Y : (177, 12) (177,)\n",
      "Total training and Test Data:  106 71\n"
     ]
    }
   ],
   "source": [
    "Xdata, Ydata, ndata, ninputmap = process_data()"
   ]
  },
  {
   "cell_type": "code",
   "execution_count": 5,
   "id": "8603253d",
   "metadata": {},
   "outputs": [
    {
     "data": {
      "text/plain": [
       "((177, 12), (177,), 177)"
      ]
     },
     "execution_count": 5,
     "metadata": {},
     "output_type": "execute_result"
    }
   ],
   "source": [
    "Xdata.shape, Ydata.shape, ndata"
   ]
  },
  {
   "cell_type": "code",
   "execution_count": 6,
   "id": "7900c608",
   "metadata": {},
   "outputs": [],
   "source": [
    "setting = 'material'\n",
    "local_dir = 'results'\n",
    "with cwd(oj(local_dir, setting)):\n",
    "    result_datas = []\n",
    "    for file in os.listdir():\n",
    "        if file.endswith('.npz'):\n",
    "            result_datas.append(np.load(file, allow_pickle=True))"
   ]
  },
  {
   "cell_type": "markdown",
   "id": "3a836a43",
   "metadata": {},
   "source": [
    "## GP regression"
   ]
  },
  {
   "cell_type": "code",
   "execution_count": 7,
   "id": "1380e326",
   "metadata": {},
   "outputs": [],
   "source": [
    "def posterior_predictive(X_train, y_train, X_test, sigma_y=1e-8):\n",
    "    K = kernel(X_train, X_train) + np.square(sigma_y) * np.eye(len(X_train))\n",
    "    K_s = kernel(X_train, X_test)\n",
    "    K_inv = np.linalg.inv(K + sigma_y * np.eye(len(K)))\n",
    "\n",
    "    mu_s = K_s.T @ K_inv @ y_train\n",
    "    return mu_s\n",
    "\n",
    "def get_mse(Xdata, Ydata, X_train, X_test):\n",
    "\n",
    "    y_train = []\n",
    "    for x_i, y_i in zip(Xdata, Ydata):\n",
    "        for x_ob in X_train:\n",
    "            if (x_i == x_ob).all():\n",
    "                y_train.append(y_i)\n",
    "    y_train = np.asarray(y_train)\n",
    "\n",
    "    \n",
    "    y_test = []\n",
    "    for x_i, y_i in zip(Xdata, Ydata):\n",
    "        for x_ob in X_test:\n",
    "            if (x_i == x_ob).all():\n",
    "                y_test.append(y_i)\n",
    "    y_test = np.asarray(y_test)\n",
    "    \n",
    "    predictive_mean = posterior_predictive(X_train, y_train, X_test, 1e-1)\n",
    "    \n",
    "    return np.mean((y_test - predictive_mean)**2)"
   ]
  },
  {
   "cell_type": "code",
   "execution_count": 8,
   "id": "235992bc",
   "metadata": {},
   "outputs": [
    {
     "data": {
      "text/html": [
       "<div>\n",
       "<style scoped>\n",
       "    .dataframe tbody tr th:only-of-type {\n",
       "        vertical-align: middle;\n",
       "    }\n",
       "\n",
       "    .dataframe tbody tr th {\n",
       "        vertical-align: top;\n",
       "    }\n",
       "\n",
       "    .dataframe thead th {\n",
       "        text-align: right;\n",
       "    }\n",
       "</style>\n",
       "<table border=\"1\" class=\"dataframe\">\n",
       "  <thead>\n",
       "    <tr style=\"text-align: right;\">\n",
       "      <th></th>\n",
       "      <th>Baselines</th>\n",
       "      <th>Avg MSE</th>\n",
       "      <th>Stderr</th>\n",
       "      <th>Std MSE</th>\n",
       "      <th>Stderr Std</th>\n",
       "    </tr>\n",
       "  </thead>\n",
       "  <tbody>\n",
       "    <tr>\n",
       "      <th>0</th>\n",
       "      <td>greedy_1</td>\n",
       "      <td>0.222323</td>\n",
       "      <td>0.021101</td>\n",
       "      <td>0.030723</td>\n",
       "      <td>0.004569</td>\n",
       "    </tr>\n",
       "    <tr>\n",
       "      <th>1</th>\n",
       "      <td>greedy_2</td>\n",
       "      <td>0.262299</td>\n",
       "      <td>0.021892</td>\n",
       "      <td>0.053762</td>\n",
       "      <td>0.008760</td>\n",
       "    </tr>\n",
       "    <tr>\n",
       "      <th>2</th>\n",
       "      <td>greedy_3</td>\n",
       "      <td>0.225551</td>\n",
       "      <td>0.026504</td>\n",
       "      <td>0.027000</td>\n",
       "      <td>0.006593</td>\n",
       "    </tr>\n",
       "    <tr>\n",
       "      <th>3</th>\n",
       "      <td>greedy_4</td>\n",
       "      <td>0.172505</td>\n",
       "      <td>0.023747</td>\n",
       "      <td>0.034815</td>\n",
       "      <td>0.011747</td>\n",
       "    </tr>\n",
       "    <tr>\n",
       "      <th>4</th>\n",
       "      <td>greedy_sum</td>\n",
       "      <td>0.219118</td>\n",
       "      <td>0.012654</td>\n",
       "      <td>0.038695</td>\n",
       "      <td>0.008453</td>\n",
       "    </tr>\n",
       "    <tr>\n",
       "      <th>5</th>\n",
       "      <td>dynamic_beta</td>\n",
       "      <td>0.254988</td>\n",
       "      <td>0.035777</td>\n",
       "      <td>0.045795</td>\n",
       "      <td>0.014497</td>\n",
       "    </tr>\n",
       "    <tr>\n",
       "      <th>6</th>\n",
       "      <td>joint</td>\n",
       "      <td>0.209274</td>\n",
       "      <td>0.025947</td>\n",
       "      <td>0.040436</td>\n",
       "      <td>0.004301</td>\n",
       "    </tr>\n",
       "    <tr>\n",
       "      <th>7</th>\n",
       "      <td>rand</td>\n",
       "      <td>0.201360</td>\n",
       "      <td>0.017956</td>\n",
       "      <td>0.043836</td>\n",
       "      <td>0.004232</td>\n",
       "    </tr>\n",
       "    <tr>\n",
       "      <th>8</th>\n",
       "      <td>entropy</td>\n",
       "      <td>0.212001</td>\n",
       "      <td>0.016309</td>\n",
       "      <td>0.028284</td>\n",
       "      <td>0.005745</td>\n",
       "    </tr>\n",
       "    <tr>\n",
       "      <th>9</th>\n",
       "      <td>ind</td>\n",
       "      <td>0.227731</td>\n",
       "      <td>0.000748</td>\n",
       "      <td>0.062736</td>\n",
       "      <td>0.000406</td>\n",
       "    </tr>\n",
       "  </tbody>\n",
       "</table>\n",
       "</div>"
      ],
      "text/plain": [
       "      Baselines   Avg MSE    Stderr   Std MSE  Stderr Std\n",
       "0      greedy_1  0.222323  0.021101  0.030723    0.004569\n",
       "1      greedy_2  0.262299  0.021892  0.053762    0.008760\n",
       "2      greedy_3  0.225551  0.026504  0.027000    0.006593\n",
       "3      greedy_4  0.172505  0.023747  0.034815    0.011747\n",
       "4    greedy_sum  0.219118  0.012654  0.038695    0.008453\n",
       "5  dynamic_beta  0.254988  0.035777  0.045795    0.014497\n",
       "6         joint  0.209274  0.025947  0.040436    0.004301\n",
       "7          rand  0.201360  0.017956  0.043836    0.004232\n",
       "8       entropy  0.212001  0.016309  0.028284    0.005745\n",
       "9           ind  0.227731  0.000748  0.062736    0.000406"
      ]
     },
     "execution_count": 8,
     "metadata": {},
     "output_type": "execute_result"
    }
   ],
   "source": [
    "mse_results = defaultdict(list)\n",
    "n = 3\n",
    "n_trials = 5\n",
    "for trial_i in range(n_trials):\n",
    "    obs = result_datas[trial_i]['obs'].item()\n",
    "    Ts = result_datas[trial_i]['Ts']\n",
    "    for collab_type, collab_obs in obs.items():\n",
    "        mse = 0\n",
    "        mses = []\n",
    "        for i in range(n):\n",
    "            if 'indiv' in collab_type:    \n",
    "                mse_i = get_mse(Xdata, Ydata, collab_obs[i], Ts[i])\n",
    "            else:\n",
    "                mse_i = get_mse(Xdata, Ydata, collab_obs, Ts[i]) \n",
    "\n",
    "            mses.append(mse_i)\n",
    "            mse += mse_i / n\n",
    "        \n",
    "        mse_results[collab_type+'-avg-mses'].append(mse)        \n",
    "        mse_results[collab_type+'-mses'].append(mses)\n",
    "\n",
    "\n",
    "data_df = defaultdict(list)\n",
    "for collab_type, mse_list in mse_results.items():\n",
    "    baseline = collab_type.replace('-avg-mses', '').replace('-mses', '').replace('_obs','').replace('indiv_greedy', 'ind')\n",
    "    if baseline not in data_df['Baselines']:\n",
    "        data_df['Baselines'].append(baseline)\n",
    "    if '-avg-mses' in collab_type:\n",
    "        avg = np.mean(mse_list)\n",
    "        se = sem(mse_list)\n",
    "        data_df['Avg MSE'].append(avg)\n",
    "        data_df['Stderr'].append(se)\n",
    "    else:\n",
    "        stds = np.std(mse_list, axis=1)\n",
    "        \n",
    "        mean_std_mse = np.mean(stds)\n",
    "        se_std_mse = sem(stds)\n",
    "        data_df['Std MSE'].append(mean_std_mse)\n",
    "        data_df['Stderr Std'].append(se_std_mse)\n",
    "\n",
    "material_regression_df = pd.DataFrame(data=data_df)\n",
    "material_regression_df"
   ]
  },
  {
   "cell_type": "code",
   "execution_count": null,
   "id": "23754082",
   "metadata": {},
   "outputs": [],
   "source": []
  },
  {
   "cell_type": "code",
   "execution_count": 9,
   "id": "7d61c20f",
   "metadata": {},
   "outputs": [],
   "source": [
    "with cwd(oj(local_dir, setting)):\n",
    "    material_regression_df.to_latex('material_regression.tex', index=False)\n",
    "    material_regression_df.to_csv('material_regression.csv', index=False)"
   ]
  },
  {
   "cell_type": "code",
   "execution_count": null,
   "id": "02117050",
   "metadata": {},
   "outputs": [],
   "source": []
  },
  {
   "cell_type": "code",
   "execution_count": null,
   "id": "9be6ebca",
   "metadata": {},
   "outputs": [],
   "source": []
  },
  {
   "cell_type": "code",
   "execution_count": null,
   "id": "626045af",
   "metadata": {},
   "outputs": [],
   "source": []
  },
  {
   "cell_type": "code",
   "execution_count": null,
   "id": "38288218",
   "metadata": {},
   "outputs": [],
   "source": []
  },
  {
   "cell_type": "code",
   "execution_count": null,
   "id": "bd985f22",
   "metadata": {},
   "outputs": [],
   "source": []
  },
  {
   "cell_type": "code",
   "execution_count": null,
   "id": "4ca61969",
   "metadata": {},
   "outputs": [],
   "source": []
  }
 ],
 "metadata": {
  "kernelspec": {
   "display_name": "Python 3 (ipykernel)",
   "language": "python",
   "name": "python3"
  },
  "language_info": {
   "codemirror_mode": {
    "name": "ipython",
    "version": 3
   },
   "file_extension": ".py",
   "mimetype": "text/x-python",
   "name": "python",
   "nbconvert_exporter": "python",
   "pygments_lexer": "ipython3",
   "version": "3.8.8"
  }
 },
 "nbformat": 4,
 "nbformat_minor": 5
}
